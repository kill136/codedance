{
 "cells": [
  {
   "cell_type": "code",
   "execution_count": 5,
   "id": "ca920e57-4172-4a45-8a15-d802551cbe10",
   "metadata": {
    "ExecutionIndicator": {
     "show": true
    },
    "execution": {
     "iopub.execute_input": "2025-01-19T02:58:19.532252Z",
     "iopub.status.busy": "2025-01-19T02:58:19.531864Z",
     "iopub.status.idle": "2025-01-19T02:58:19.538622Z",
     "shell.execute_reply": "2025-01-19T02:58:19.538080Z",
     "shell.execute_reply.started": "2025-01-19T02:58:19.532228Z"
    },
    "tags": []
   },
   "outputs": [
    {
     "name": "stdout",
     "output_type": "stream",
     "text": [
      "Key shape: torch.Size([2, 4, 3])\n",
      "Key content: tensor([[[  1.4000,   3.2000,   5.0000],\n",
      "         [  3.2000,   7.7000,  12.2000],\n",
      "         [  5.0000,  12.2000,  19.4000],\n",
      "         [  6.8000,  16.7000,  26.6000]],\n",
      "\n",
      "        [[ -1.4000,  -3.2000,  -5.0000],\n",
      "         [ -3.2000,  -7.7000, -12.2000],\n",
      "         [ -5.0000, -12.2000, -19.4000],\n",
      "         [ -6.8000, -16.7000, -26.6000]]], grad_fn=<UnsafeViewBackward0>)\n"
     ]
    }
   ],
   "source": [
    "import torch\n",
    "import torch.nn as nn\n",
    "\n",
    "# 假设输入序列\n",
    "x = torch.tensor([[[1.0, 2.0, 3.0],\n",
    "                   [4.0, 5.0, 6.0],\n",
    "                   [7.0, 8.0, 9.0],\n",
    "                   [10.0, 11.0, 12.0]],\n",
    "\n",
    "                  [[-1.0, -2.0, -3.0],\n",
    "                   [-4.0, -5.0, -6.0],\n",
    "                   [-7.0, -8.0, -9.0],\n",
    "                   [-10.0, -11.0, -12.0]]])  # [batch_size, max_seq_len, embedding_dim]\n",
    "\n",
    "# 定义线性层\n",
    "key_layer = nn.Linear(3, 3, bias=False)\n",
    "\n",
    "# 手动设置权重\n",
    "key_layer.weight.data = torch.tensor([[0.1, 0.2, 0.3],\n",
    "                                      [0.4, 0.5, 0.6],\n",
    "                                      [0.7, 0.8, 0.9]])\n",
    "\n",
    "# 计算键向量\n",
    "key = key_layer(x)\n",
    "\n",
    "print(\"Key shape:\", key.shape)  # 输出: [2, 4, 3]\n",
    "print(\"Key content:\", key)"
   ]
  },
  {
   "cell_type": "code",
   "execution_count": 7,
   "id": "2623b368-ddf0-4d32-955b-0787ac32df1a",
   "metadata": {
    "ExecutionIndicator": {
     "show": true
    },
    "execution": {
     "iopub.execute_input": "2025-01-19T02:59:06.289740Z",
     "iopub.status.busy": "2025-01-19T02:59:06.289387Z",
     "iopub.status.idle": "2025-01-19T02:59:06.295714Z",
     "shell.execute_reply": "2025-01-19T02:59:06.295228Z",
     "shell.execute_reply.started": "2025-01-19T02:59:06.289718Z"
    },
    "tags": []
   },
   "outputs": [
    {
     "name": "stdout",
     "output_type": "stream",
     "text": [
      "Key shape: torch.Size([2, 4, 3])\n",
      "Key content: tensor([[[  1.4000,   3.2000,   5.0000],\n",
      "         [  3.2000,   7.7000,  12.2000],\n",
      "         [  5.0000,  12.2000,  19.4000],\n",
      "         [  6.8000,  16.7000,  26.6000]],\n",
      "\n",
      "        [[ -1.4000,  -3.2000,  -5.0000],\n",
      "         [ -3.2000,  -7.7000, -12.2000],\n",
      "         [ -5.0000, -12.2000, -19.4000],\n",
      "         [ -6.8000, -16.7000, -26.6000]]])\n"
     ]
    }
   ],
   "source": [
    "import torch\n",
    "\n",
    "# 假设 x 是输入数据，形状为 [batch_size, num_samples, num_features]\n",
    "x = torch.tensor([[[1.0, 2.0, 3.0], [4.0, 5.0, 6.0], [7.0, 8.0, 9.0], [10.0, 11.0, 12.0]], \n",
    "                 [[-1.0, -2.0, -3.0], [-4.0, -5.0, -6.0], [-7.0, -8.0, -9.0], [-10.0, -11.0, -12.0]]])\n",
    "\n",
    "# 权重矩阵\n",
    "weights = torch.tensor([[0.1, 0.2, 0.3],\n",
    "                        [0.4, 0.5, 0.6],\n",
    "                        [0.7, 0.8, 0.9]])\n",
    "\n",
    "# 手动计算矩阵乘法\n",
    "key = torch.matmul(x, weights.T)\n",
    "\n",
    "print(\"Key shape:\", key.shape)\n",
    "print(\"Key content:\", key)\n"
   ]
  }
 ],
 "metadata": {
  "kernelspec": {
   "display_name": "Python 3 (ipykernel)",
   "language": "python",
   "name": "python3"
  },
  "language_info": {
   "codemirror_mode": {
    "name": "ipython",
    "version": 3
   },
   "file_extension": ".py",
   "mimetype": "text/x-python",
   "name": "python",
   "nbconvert_exporter": "python",
   "pygments_lexer": "ipython3",
   "version": "3.10.14"
  }
 },
 "nbformat": 4,
 "nbformat_minor": 5
}
